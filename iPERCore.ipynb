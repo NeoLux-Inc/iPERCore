{
 "cells": [
  {
   "cell_type": "markdown",
   "metadata": {},
   "source": [
    "<a href=\"https://colab.research.google.com/github/NeoLux-Inc/iPERCore/blob/main/iPERCore.ipynb\" target=\"_parent\"><img src=\"https://colab.research.google.com/assets/colab-badge.svg\" alt=\"Open In Colab\"/></a>"
   ]
  },
  {
   "cell_type": "code",
   "execution_count": null,
   "metadata": {},
   "outputs": [],
   "source": [
    "#%%\n",
    "\n",
    "import IPython\n",
    "IPython.display.HTML(\n",
    "   '<h2>Demo</h2><iframe width=\"75%\" height=\"512\" src=\"https://iperdance.github.io/project_img/impersonator_plus_plus/demo_video/demo_1_512x512.mp4\" frameborder=\"0\" allow=\"accelerometer; autoplay; encrypted-media; gyroscope; picture-in-picture\" allowfullscreen></iframe>'\n",
    ")"
   ]
  },
  {
   "cell_type": "code",
   "execution_count": null,
   "metadata": {},
   "outputs": [],
   "source": [
    "#@title セットアップ\n",
    "!git clone https://github.com/NeoLux-Inc/iPERCore.git \n",
    "%cd iPERCore\n",
    "\n",
    "# Install ffmpeg (ffprobe)\n",
    "!apt-get install ffmpeg\n",
    "\n",
    "# set CUDA_HOME, here we use CUDA 10.1\n",
    "import os\n",
    "os.environ[\"CUDA_HOME\"] = \"/usr/local/cuda-11.8\"\n",
    "\n",
    "!echo $CUDA_HOME"
   ]
  }
 ],
 "metadata": {
  "language_info": {
   "name": "python"
  },
  "orig_nbformat": 4
 },
 "nbformat": 4,
 "nbformat_minor": 2
}
